# Import Libraries
import pandas as pd
import numpy as np
import seaborn as sns
import matplotlib.pyplot as plt
from sklearn.model_selection import train_test_split
from sklearn.linear_model import LogisticRegression
from sklearn.metrics import classification_report, confusion_matrix
import joblib

# Load Dataset
df = pd.read_csv('ecommerce_returns.csv')  # Replace with your actual dataset

# Quick Look
print(df.head())
print(df.info())
print(df['Returned'].value_counts())  # Assumes 'Returned' is the target (1 for returned, 0 for kept)

# Data Cleaning
df.dropna(inplace=True)  # Basic missing value handling

# Encode Categorical Columns
df = pd.get_dummies(df, drop_first=True)

# Define Features and Target
X = df.drop('Returned', axis=1)
y = df['Returned']

# Train-Test Split
X_train, X_test, y_train, y_test = train_test_split(X, y, test_size=0.2, random_state=42)

# Logistic Regression Model
model = LogisticRegression(max_iter=1000)
model.fit(X_train, y_train)

# Predictions
y_pred = model.predict(X_test)

# Evaluation
print(confusion_matrix(y_test, y_pred))
print(classification_report(y_test, y_pred))

# Save Model
joblib.dump(model, 'return_prediction_model.pkl')

# Predict Return Probabilities for Full Dataset
df['Return_Prob'] = model.predict_proba(X)[:,1]

# Save High-Risk Products
df_high_risk = df[df['Return_Prob'] > 0.6]  # Customize threshold
df_high_risk.to_csv('high_risk_products.csv', index=False)
